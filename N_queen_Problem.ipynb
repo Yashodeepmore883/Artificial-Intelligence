{
  "nbformat": 4,
  "nbformat_minor": 0,
  "metadata": {
    "colab": {
      "provenance": []
    },
    "kernelspec": {
      "name": "python3",
      "display_name": "Python 3"
    },
    "language_info": {
      "name": "python"
    }
  },
  "cells": [
    {
      "cell_type": "code",
      "execution_count": null,
      "metadata": {
        "colab": {
          "base_uri": "https://localhost:8080/"
        },
        "id": "MNsMMkqBVvFu",
        "outputId": "bbb8e58e-aaf2-4ddd-8f19-cc40187bfa85"
      },
      "outputs": [
        {
          "output_type": "stream",
          "name": "stdout",
          "text": [
            "Enter the number of queens\n",
            "8\n",
            "[1, 0, 0, 0, 0, 0, 0, 0]\n",
            "[0, 0, 0, 0, 1, 0, 0, 0]\n",
            "[0, 0, 0, 0, 0, 0, 0, 1]\n",
            "[0, 0, 0, 0, 0, 1, 0, 0]\n",
            "[0, 0, 1, 0, 0, 0, 0, 0]\n",
            "[0, 0, 0, 0, 0, 0, 1, 0]\n",
            "[0, 1, 0, 0, 0, 0, 0, 0]\n",
            "[0, 0, 0, 1, 0, 0, 0, 0]\n"
          ]
        }
      ],
      "source": [
        "#IMPLEMENT N QUEEN PROBLEM IN PYTHON\n",
        "#number of queens\n",
        "print(\"Enter the number of queens\")\n",
        "N=int(input())\n",
        "#chessboard\n",
        "#NXN matrix with all elements 0\n",
        "board=[[0]*N for _ in range(N)]\n",
        "\n",
        "def is_attack(i,j):\n",
        "  #checking if there is aqueen in row or column\n",
        "    for k in range(0,N):\n",
        "        if board[i][k]==1 or board[k][j]==1:\n",
        "           return True\n",
        " #checking diagonals\n",
        "    for k in range(0,N):\n",
        "        for l in range(0,N):\n",
        "            if (k+l==i+j)or (k-l==i-j):\n",
        "               if board[k][l]==1:\n",
        "                  return True\n",
        "    return False\n",
        "def N_queen(n):\n",
        "  # if n is 0, solution found\n",
        "    if n==0:\n",
        "       return True\n",
        "    for i in range(0,N):\n",
        "      '''checking if we can place a queen here or not\n",
        "          queen will not be placed if the place is being attacked or already occupied'''\n",
        "      for j in range(0,N):\n",
        "            if (not(is_attack(i,j)))and (board[i][j]!=1):\n",
        "              board[i][j]=1\n",
        "              if N_queen(n-1)==True:\n",
        "                 return True\n",
        "              board[i][j]=0\n",
        "    return False\n",
        "N_queen(N)\n",
        "for i in board:\n",
        "    print(i)"
      ]
    }
  ]
}