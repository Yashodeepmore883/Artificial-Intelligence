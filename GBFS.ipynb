{
  "cells": [
    {
      "cell_type": "code",
      "execution_count": null,
      "id": "079ef10c",
      "metadata": {
        "colab": {
          "base_uri": "https://localhost:8080/"
        },
        "id": "079ef10c",
        "outputId": "05c2fee1-18b3-4616-880c-07cd2c9d8430"
      },
      "outputs": [
        {
          "output_type": "stream",
          "name": "stdout",
          "text": [
            "{'S': None, 'A': 'S', 'B': 'S', 'C': 'S', 'G': 'C'}\n"
          ]
        }
      ],
      "source": [
        "graph_relation={\n",
        "    \"S\":[\"A\",\"B\",\"C\"],\n",
        "    \"A\":[\"D\",\"E\",\"G\"],\n",
        "    \"B\":[\"G\"],\n",
        "    \"C\":[\"G\"],\n",
        "    \"D\":[],\n",
        "    \"E\":[],\n",
        "    \"G\":[],\n",
        "}\n",
        "heuristic={\n",
        "    \"S\":8,\n",
        "    \"A\":8,\n",
        "    \"B\":4,\n",
        "    \"C\":3,\n",
        "    \"D\":-1,\n",
        "    \"E\":-1,\n",
        "    \"G\":0,\n",
        "}\n",
        "import heapq\n",
        "def best_first_search(graph,start,goal,heuristic):\n",
        "    \"\"\"\n",
        "    graph:Dict having Tree Structure.\n",
        "    start:Starting Node of the Tree.\n",
        "    goal:Node to Search\n",
        "    heuristic:List of heuristic cost.\n",
        "    \"\"\"\n",
        "    que=[(heuristic[start],start)]\n",
        "    came_from={}\n",
        "    came_from[start]=None\n",
        "    while que:\n",
        "        _,peak_node=heapq.heappop(que)\n",
        "        if peak_node==goal:\n",
        "            break\n",
        "        for neighbour in graph[peak_node]:\n",
        "            if neighbour not in came_from:\n",
        "                heapq.heappush(que,(heuristic[neighbour],neighbour))\n",
        "                came_from[neighbour]=peak_node\n",
        "    return came_from\n",
        "start_node='S'\n",
        "goal_node='G'\n",
        "came_from=best_first_search(graph_relation,start_node,goal_node,heuristic)\n",
        "print(came_from)\n"
      ]
    },
    {
      "cell_type": "code",
      "execution_count": null,
      "id": "c65fb606",
      "metadata": {
        "colab": {
          "base_uri": "https://localhost:8080/"
        },
        "id": "c65fb606",
        "outputId": "1e535e91-36ac-4d80-b681-95687c5e3da1"
      },
      "outputs": [
        {
          "output_type": "stream",
          "name": "stdout",
          "text": [
            "GBFS path from S to G : ['S', 'C', 'G']\n"
          ]
        }
      ],
      "source": [
        "node=goal_node\n",
        "path=[node]\n",
        "while node!=start_node:\n",
        "    node=came_from[node]\n",
        "    path.append(node)\n",
        "path.reverse()\n",
        "print(\"GBFS path from\",start_node,\"to\",goal_node,\":\",path)"
      ]
    },
    {
      "cell_type": "code",
      "execution_count": null,
      "id": "03ade189",
      "metadata": {
        "colab": {
          "base_uri": "https://localhost:8080/"
        },
        "id": "03ade189",
        "outputId": "09891624-ffcd-4472-a391-faa2fee037b2"
      },
      "outputs": [
        {
          "output_type": "stream",
          "name": "stdout",
          "text": [
            "{'A': None, 'B': 'A', 'C': 'A', 'F': 'C', 'G': 'C', 'H': 'G'}\n"
          ]
        }
      ],
      "source": [
        "graph_relation={\n",
        "    \"A\":[\"B\",\"C\"],\n",
        "    \"B\":[\"D\",\"E\"],\n",
        "    \"C\":[\"F\",\"G\"],\n",
        "    \"E\":[\"H\"],\n",
        "    \"F\":[\"H\"],\n",
        "    \"G\":[\"H\"],\n",
        "    \"D\":[],\n",
        "    \"H\":[],\n",
        "}\n",
        "heuristic={\n",
        "    \"A\":13,\n",
        "    \"B\":12,\n",
        "    \"C\":4,\n",
        "    \"D\":7,\n",
        "    \"E\":3,\n",
        "    \"F\":8,\n",
        "    \"G\":2,\n",
        "    \"H\":0,\n",
        "}\n",
        "import heapq\n",
        "def best_first_search(graph,start,goal,heuristic):\n",
        "    \"\"\"\n",
        "    graph:Dict having Tree Structure.\n",
        "    start:Starting Node of the Tree.\n",
        "    goal:Node to Search\n",
        "    heuristic:List of heuristic cost.\n",
        "    \"\"\"\n",
        "    que=[(heuristic[start],start)]\n",
        "    came_from={}\n",
        "    came_from[start]=None\n",
        "    while que:\n",
        "        _,peak_node=heapq.heappop(que)\n",
        "        if peak_node==goal:\n",
        "            break\n",
        "        for neighbour in graph[peak_node]:\n",
        "            if neighbour not in came_from:\n",
        "                heapq.heappush(que,(heuristic[neighbour],neighbour))\n",
        "                came_from[neighbour]=peak_node\n",
        "    return came_from\n",
        "start_node='A'\n",
        "goal_node='H'\n",
        "came_from=best_first_search(graph_relation,start_node,goal_node,heuristic)\n",
        "print(came_from)\n"
      ]
    },
    {
      "cell_type": "code",
      "source": [
        "node=goal_node\n",
        "path=[node]\n",
        "while node!=start_node:\n",
        "    node=came_from[node]\n",
        "    path.append(node)\n",
        "path.reverse()\n",
        "print(\"GBFS path from\",start_node,\"to\",goal_node,\":\",path)"
      ],
      "metadata": {
        "id": "I6XnO_LLZCaL",
        "outputId": "28692804-0abd-4633-a214-9b0700d2e7d3",
        "colab": {
          "base_uri": "https://localhost:8080/"
        }
      },
      "id": "I6XnO_LLZCaL",
      "execution_count": null,
      "outputs": [
        {
          "output_type": "stream",
          "name": "stdout",
          "text": [
            "GBFS path from A to H : ['A', 'C', 'G', 'H']\n"
          ]
        }
      ]
    }
  ],
  "metadata": {
    "kernelspec": {
      "display_name": "Python 3 (ipykernel)",
      "language": "python",
      "name": "python3"
    },
    "language_info": {
      "codemirror_mode": {
        "name": "ipython",
        "version": 3
      },
      "file_extension": ".py",
      "mimetype": "text/x-python",
      "name": "python",
      "nbconvert_exporter": "python",
      "pygments_lexer": "ipython3",
      "version": "3.9.12"
    },
    "colab": {
      "provenance": []
    }
  },
  "nbformat": 4,
  "nbformat_minor": 5
}